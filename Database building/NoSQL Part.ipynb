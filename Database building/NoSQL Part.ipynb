{
 "cells": [
  {
   "cell_type": "code",
   "execution_count": null,
   "metadata": {
    "collapsed": true
   },
   "outputs": [],
   "source": [
    "import pandas as pd"
   ]
  },
  {
   "cell_type": "code",
   "execution_count": null,
   "metadata": {
    "collapsed": false
   },
   "outputs": [],
   "source": [
    "data = pd.read_json('/Users/xuyinchuan/Desktop/Life_and_study/宾大相关/Courses/CIS550/HW/laureates.json')"
   ]
  },
  {
   "cell_type": "code",
   "execution_count": null,
   "metadata": {
    "collapsed": false
   },
   "outputs": [],
   "source": [
    "data"
   ]
  },
  {
   "cell_type": "code",
   "execution_count": 60,
   "metadata": {
    "collapsed": false
   },
   "outputs": [
    {
     "name": "stdout",
     "output_type": "stream",
     "text": [
      "                 movie_id1                             movie_id2\n",
      "review  [review1, review2]  [review1, review2, review3, review4]\n"
     ]
    }
   ],
   "source": [
    "df = pd.DataFrame([[['review1','review2'], ['review1','review2','review3','review4']]], index=['review'],columns=['movie_id1', 'movie_id2'])\n",
    "print(df)"
   ]
  },
  {
   "cell_type": "code",
   "execution_count": 63,
   "metadata": {
    "collapsed": false
   },
   "outputs": [
    {
     "data": {
      "text/plain": [
       "'{\"movie_id1\":{\"review\":[\"review1\",\"review2\"]},\"movie_id2\":{\"review\":[\"review1\",\"review2\",\"review3\",\"review4\"]}}'"
      ]
     },
     "execution_count": 63,
     "metadata": {},
     "output_type": "execute_result"
    }
   ],
   "source": [
    "df.to_json()"
   ]
  },
  {
   "cell_type": "code",
   "execution_count": null,
   "metadata": {
    "collapsed": false
   },
   "outputs": [],
   "source": [
    "# read url.txt\n",
    "df_url = pd.read_csv('/Users/xuyinchuan/Desktop/MovieBook_Yinchuan/MovieDB/aclImdb/test/urls_pos.txt', header = None)"
   ]
  },
  {
   "cell_type": "code",
   "execution_count": null,
   "metadata": {
    "collapsed": false
   },
   "outputs": [],
   "source": [
    "df_url"
   ]
  },
  {
   "cell_type": "code",
   "execution_count": 52,
   "metadata": {
    "collapsed": false
   },
   "outputs": [],
   "source": [
    "# extract the imdbID\n",
    "def extr(index, df_url):\n",
    "    url = df_url.loc[index, 0]\n",
    "    tt = url[26:].split('/')[0][2:]\n",
    "    return int(tt.lstrip('0'))  # 不确定要不要int下"
   ]
  },
  {
   "cell_type": "code",
   "execution_count": 106,
   "metadata": {
    "collapsed": true
   },
   "outputs": [],
   "source": [
    "# read the movie.csv\n",
    "movielen_movie_path = \"/Users/xuyinchuan/Desktop/Movie_web_application/MovieBook/Datasets relation part/Movie.csv\"\n",
    "movie = pd.read_csv(movielen_movie_path, encoding='latin1')\n",
    "movie = movie.iloc[:,0]\n",
    "movie = set(movie)"
   ]
  },
  {
   "cell_type": "code",
   "execution_count": 115,
   "metadata": {
    "collapsed": false
   },
   "outputs": [
    {
     "name": "stdout",
     "output_type": "stream",
     "text": [
      "[9611, 10071, 12224, 12364, 15648, 17534, 19422, 20641, 20691, 20821, 21750, 22430, 22639, 24314, 24500, 24961, 25799, 27623, 27697, 29850, 30149, 32022, 32553, 32676, 32819, 33582, 33727, 34277, 34384, 34389, 35279, 35317, 35798, 36723, 37120, 37595, 37793, 38053, 39286, 39428, 39739, 41513, 42372, 42541, 43117, 44079, 44762, 45049, 46057, 46750, 46766, 46851, 46949, 47167, 48021, 48316, 48347, 48488, 48789, 49431, 49470, 50283, 50347, 50634, 50717, 51003, 51133, 51876, 51983, 52354, 52619, 52698, 52950, 53121, 53182, 53270, 62622, 62731, 62793, 62979, 63611, 64117, 64382, 64519, 64694, 64855, 64873, 64990, 65086, 65421, 65531, 65611, 65916, 66279, 66564, 66819, 67085, 67217, 67227, 67359, 67433, 67439, 67445, 67633, 69019, 69089, 69994, 70180, 70337, 70672, 70800, 70904, 71334, 71358, 71950, 72895, 73694, 73906, 74157, 75404, 76252, 76313, 77132, 77280, 77986, 78788, 78924, 78966, 79257, 79261, 79366, 79417, 79540, 79588, 80419, 80716, 80835, 80855, 81110, 81159, 81250, 81467, 81613, 82084, 82252, 82404, 82507, 82525, 82592, 82810, 82883, 82912, 82992, 83064, 83789, 83891, 84171, 84228, 84234, 84747, 84776, 84787, 85426, 85461, 86006, 86525, 86723, 87231, 87365, 87805, 88402, 88583, 88805, 89003, 89160, 89489, 89603, 90005, 90774, 91278, 91310, 91680, 91860, 92501, 92580, 92603, 92699, 92752, 92843, 92890, 93624, 93677, 94142, 94321, 94824, 94910, 94933, 95386, 95593, 96219, 96321, 96425, 97336, 97648, 97694, 98383, 99512, 99582, 100260, 100762, 100924, 101412, 101420, 101628, 102467, 103002, 103112, 103776, 103882, 104922, 104926, 105211, 105598, 106112, 106639, 106877, 107065, 107206, 107376, 107447, 107824, 107863, 107977, 108186, 108211, 108557, 109206, 109454, 109555, 109895, 109900, 109950, 110604, 110612, 110657, 110719, 110958, 111237, 111495, 112373, 112495, 112570, 112757, 112818, 113253, 113449, 113957, 113967, 114086, 114122, 114182, 114651, 114694, 114733, 115561, 115813, 116056, 116130, 116209, 116322, 116835, 116908, 117038, 118117, 118604, 118647, 118749, 119040, 119068, 119305, 119360, 119572, 119780, 119848, 120056, 120162, 120323, 120472, 120611, 120619, 120765, 120776, 120786, 120907, 122459, 124102, 124621, 124901, 125980, 134033, 138541, 143344, 143861, 144120, 144142, 145547, 149691, 151738, 152015, 153866, 154506, 156934, 159365, 159752, 162866, 164221, 166252, 166924, 167059, 171580, 177707, 178642, 181288, 182766, 187696, 188674, 189047, 195630, 195778, 202470, 203755, 209958, 210294, 212742, 216165, 218839, 218871, 219374, 219854, 221455, 233651, 238112, 238546, 238588, 239496, 244870, 246628, 246765, 249677, 250223, 251094, 253016, 264935, 265298, 272152, 275309, 276428, 283900, 284490, 286476, 291832, 296881, 298238, 298504, 301167, 301976, 303394, 304678, 307197, 310778, 312004, 312859, 312886, 316465, 317234, 317740, 324264, 338467, 339422, 342275, 342492, 342636, 343172, 345551, 346094, 349903, 350258, 351887, 361748, 361856, 362129, 362478, 365376, 365763, 365830, 369053, 369702, 370244, 373024, 379889, 380485, 383475, 384212, 384793, 385700, 386588, 387808, 388318, 388364, 388980, 391229, 395417, 395669, 397065, 397696, 398883, 401420, 404030, 406816, 407936, 411674, 417791, 419887, 423651, 430770, 433624, 437179, 439008, 439491, 443844, 445336, 446320, 446687, 447166, 448131, 449303, 453494, 454065, 454945, 455857, 455949, 459242, 460766, 462200, 462219, 464913, 465188, 468442, 468704, 470000, 472062, 472582, 473074, 483726, 493430, 762073, 783328, 790665, 804522, 805613, 808151, 808185, 816436, 819714, 827521, 827713, 876563, 902290, 913354, 930083, 956038, 963207, 990404]\n"
     ]
    }
   ],
   "source": [
    "list_of_column = []\n",
    "for i in range(12500):\n",
    "    imdbID = extr(i, df_url)\n",
    "    # only add movies that is in movie.csv into list\n",
    "    if imdbID in movie:\n",
    "        list_of_column.append(imdbID)\n",
    "list_of_column = sorted(list(set(list_of_column)))\n",
    "print(list_of_column)"
   ]
  },
  {
   "cell_type": "code",
   "execution_count": 152,
   "metadata": {
    "collapsed": true
   },
   "outputs": [],
   "source": [
    "df_review = pd.DataFrame([], index=['imdbID', 'review'],columns=list_of_column)"
   ]
  },
  {
   "cell_type": "code",
   "execution_count": 153,
   "metadata": {
    "collapsed": false
   },
   "outputs": [
    {
     "data": {
      "text/html": [
       "<div>\n",
       "<style>\n",
       "    .dataframe thead tr:only-child th {\n",
       "        text-align: right;\n",
       "    }\n",
       "\n",
       "    .dataframe thead th {\n",
       "        text-align: left;\n",
       "    }\n",
       "\n",
       "    .dataframe tbody tr th {\n",
       "        vertical-align: top;\n",
       "    }\n",
       "</style>\n",
       "<table border=\"1\" class=\"dataframe\">\n",
       "  <thead>\n",
       "    <tr style=\"text-align: right;\">\n",
       "      <th></th>\n",
       "      <th>9611</th>\n",
       "      <th>10071</th>\n",
       "      <th>12224</th>\n",
       "      <th>12364</th>\n",
       "      <th>15648</th>\n",
       "      <th>17534</th>\n",
       "      <th>19422</th>\n",
       "      <th>20641</th>\n",
       "      <th>20691</th>\n",
       "      <th>20821</th>\n",
       "      <th>...</th>\n",
       "      <th>819714</th>\n",
       "      <th>827521</th>\n",
       "      <th>827713</th>\n",
       "      <th>876563</th>\n",
       "      <th>902290</th>\n",
       "      <th>913354</th>\n",
       "      <th>930083</th>\n",
       "      <th>956038</th>\n",
       "      <th>963207</th>\n",
       "      <th>990404</th>\n",
       "    </tr>\n",
       "  </thead>\n",
       "  <tbody>\n",
       "    <tr>\n",
       "      <th>imdbID</th>\n",
       "      <td>NaN</td>\n",
       "      <td>NaN</td>\n",
       "      <td>NaN</td>\n",
       "      <td>NaN</td>\n",
       "      <td>NaN</td>\n",
       "      <td>NaN</td>\n",
       "      <td>NaN</td>\n",
       "      <td>NaN</td>\n",
       "      <td>NaN</td>\n",
       "      <td>NaN</td>\n",
       "      <td>...</td>\n",
       "      <td>NaN</td>\n",
       "      <td>NaN</td>\n",
       "      <td>NaN</td>\n",
       "      <td>NaN</td>\n",
       "      <td>NaN</td>\n",
       "      <td>NaN</td>\n",
       "      <td>NaN</td>\n",
       "      <td>NaN</td>\n",
       "      <td>NaN</td>\n",
       "      <td>NaN</td>\n",
       "    </tr>\n",
       "    <tr>\n",
       "      <th>review</th>\n",
       "      <td>NaN</td>\n",
       "      <td>NaN</td>\n",
       "      <td>NaN</td>\n",
       "      <td>NaN</td>\n",
       "      <td>NaN</td>\n",
       "      <td>NaN</td>\n",
       "      <td>NaN</td>\n",
       "      <td>NaN</td>\n",
       "      <td>NaN</td>\n",
       "      <td>NaN</td>\n",
       "      <td>...</td>\n",
       "      <td>NaN</td>\n",
       "      <td>NaN</td>\n",
       "      <td>NaN</td>\n",
       "      <td>NaN</td>\n",
       "      <td>NaN</td>\n",
       "      <td>NaN</td>\n",
       "      <td>NaN</td>\n",
       "      <td>NaN</td>\n",
       "      <td>NaN</td>\n",
       "      <td>NaN</td>\n",
       "    </tr>\n",
       "  </tbody>\n",
       "</table>\n",
       "<p>2 rows × 473 columns</p>\n",
       "</div>"
      ],
      "text/plain": [
       "       9611   10071  12224  12364  15648  17534  19422  20641  20691  20821   \\\n",
       "imdbID    NaN    NaN    NaN    NaN    NaN    NaN    NaN    NaN    NaN    NaN   \n",
       "review    NaN    NaN    NaN    NaN    NaN    NaN    NaN    NaN    NaN    NaN   \n",
       "\n",
       "        ...   819714 827521 827713 876563 902290 913354 930083 956038 963207  \\\n",
       "imdbID  ...      NaN    NaN    NaN    NaN    NaN    NaN    NaN    NaN    NaN   \n",
       "review  ...      NaN    NaN    NaN    NaN    NaN    NaN    NaN    NaN    NaN   \n",
       "\n",
       "       990404  \n",
       "imdbID    NaN  \n",
       "review    NaN  \n",
       "\n",
       "[2 rows x 473 columns]"
      ]
     },
     "execution_count": 153,
     "metadata": {},
     "output_type": "execute_result"
    }
   ],
   "source": [
    "df_review"
   ]
  },
  {
   "cell_type": "code",
   "execution_count": 154,
   "metadata": {
    "collapsed": false
   },
   "outputs": [],
   "source": [
    "for i in range(473):\n",
    "    df_review.iloc[0, i] = list_of_column[i]\n",
    "    df_review.iloc[1, i] = 1\n",
    "    df_review.iloc[1, i] = []"
   ]
  },
  {
   "cell_type": "code",
   "execution_count": 155,
   "metadata": {
    "collapsed": false
   },
   "outputs": [
    {
     "data": {
      "text/html": [
       "<div>\n",
       "<style>\n",
       "    .dataframe thead tr:only-child th {\n",
       "        text-align: right;\n",
       "    }\n",
       "\n",
       "    .dataframe thead th {\n",
       "        text-align: left;\n",
       "    }\n",
       "\n",
       "    .dataframe tbody tr th {\n",
       "        vertical-align: top;\n",
       "    }\n",
       "</style>\n",
       "<table border=\"1\" class=\"dataframe\">\n",
       "  <thead>\n",
       "    <tr style=\"text-align: right;\">\n",
       "      <th></th>\n",
       "      <th>9611</th>\n",
       "      <th>10071</th>\n",
       "      <th>12224</th>\n",
       "      <th>12364</th>\n",
       "      <th>15648</th>\n",
       "      <th>17534</th>\n",
       "      <th>19422</th>\n",
       "      <th>20641</th>\n",
       "      <th>20691</th>\n",
       "      <th>20821</th>\n",
       "      <th>...</th>\n",
       "      <th>819714</th>\n",
       "      <th>827521</th>\n",
       "      <th>827713</th>\n",
       "      <th>876563</th>\n",
       "      <th>902290</th>\n",
       "      <th>913354</th>\n",
       "      <th>930083</th>\n",
       "      <th>956038</th>\n",
       "      <th>963207</th>\n",
       "      <th>990404</th>\n",
       "    </tr>\n",
       "  </thead>\n",
       "  <tbody>\n",
       "    <tr>\n",
       "      <th>imdbID</th>\n",
       "      <td>9611</td>\n",
       "      <td>10071</td>\n",
       "      <td>12224</td>\n",
       "      <td>12364</td>\n",
       "      <td>15648</td>\n",
       "      <td>17534</td>\n",
       "      <td>19422</td>\n",
       "      <td>20641</td>\n",
       "      <td>20691</td>\n",
       "      <td>20821</td>\n",
       "      <td>...</td>\n",
       "      <td>819714</td>\n",
       "      <td>827521</td>\n",
       "      <td>827713</td>\n",
       "      <td>876563</td>\n",
       "      <td>902290</td>\n",
       "      <td>913354</td>\n",
       "      <td>930083</td>\n",
       "      <td>956038</td>\n",
       "      <td>963207</td>\n",
       "      <td>990404</td>\n",
       "    </tr>\n",
       "    <tr>\n",
       "      <th>review</th>\n",
       "      <td>[]</td>\n",
       "      <td>[]</td>\n",
       "      <td>[]</td>\n",
       "      <td>[]</td>\n",
       "      <td>[]</td>\n",
       "      <td>[]</td>\n",
       "      <td>[]</td>\n",
       "      <td>[]</td>\n",
       "      <td>[]</td>\n",
       "      <td>[]</td>\n",
       "      <td>...</td>\n",
       "      <td>[]</td>\n",
       "      <td>[]</td>\n",
       "      <td>[]</td>\n",
       "      <td>[]</td>\n",
       "      <td>[]</td>\n",
       "      <td>[]</td>\n",
       "      <td>[]</td>\n",
       "      <td>[]</td>\n",
       "      <td>[]</td>\n",
       "      <td>[]</td>\n",
       "    </tr>\n",
       "  </tbody>\n",
       "</table>\n",
       "<p>2 rows × 473 columns</p>\n",
       "</div>"
      ],
      "text/plain": [
       "       9611   10071  12224  12364  15648  17534  19422  20641  20691  20821   \\\n",
       "imdbID   9611  10071  12224  12364  15648  17534  19422  20641  20691  20821   \n",
       "review     []     []     []     []     []     []     []     []     []     []   \n",
       "\n",
       "         ...    819714  827521  827713  876563  902290  913354  930083  \\\n",
       "imdbID   ...    819714  827521  827713  876563  902290  913354  930083   \n",
       "review   ...        []      []      []      []      []      []      []   \n",
       "\n",
       "        956038  963207  990404  \n",
       "imdbID  956038  963207  990404  \n",
       "review      []      []      []  \n",
       "\n",
       "[2 rows x 473 columns]"
      ]
     },
     "execution_count": 155,
     "metadata": {},
     "output_type": "execute_result"
    }
   ],
   "source": [
    "df_review"
   ]
  },
  {
   "cell_type": "code",
   "execution_count": 156,
   "metadata": {
    "collapsed": false
   },
   "outputs": [],
   "source": [
    "all_rev_path = '/Users/xuyinchuan/Desktop/MovieBook_Yinchuan/MovieDB/aclImdb/test/pos'\n",
    "for i in range(12500): #12500\n",
    "    imdbID = extr(i, df_url)\n",
    "    # only add movies that is in movie.csv into dataframe\n",
    "    if imdbID in movie:\n",
    "        file_name =all_rev_path + \"/\" + str(i) + 'f.txt'\n",
    "        myfile = open(file_name,\"r\") \n",
    "        each_review = myfile.readlines()[0]\n",
    "        # delete all / and \" in this test to make sure the json is in the right format\n",
    "        each_review.replace(\"/\", \"\")\n",
    "        each_review.replace(\"//\", \"\")\n",
    "        each_review.replace(\"\\\"\", \" \")\n",
    "        df_review.loc['review', imdbID].append(each_review)"
   ]
  },
  {
   "cell_type": "code",
   "execution_count": 157,
   "metadata": {
    "collapsed": false
   },
   "outputs": [
    {
     "data": {
      "text/html": [
       "<div>\n",
       "<style>\n",
       "    .dataframe thead tr:only-child th {\n",
       "        text-align: right;\n",
       "    }\n",
       "\n",
       "    .dataframe thead th {\n",
       "        text-align: left;\n",
       "    }\n",
       "\n",
       "    .dataframe tbody tr th {\n",
       "        vertical-align: top;\n",
       "    }\n",
       "</style>\n",
       "<table border=\"1\" class=\"dataframe\">\n",
       "  <thead>\n",
       "    <tr style=\"text-align: right;\">\n",
       "      <th></th>\n",
       "      <th>9611</th>\n",
       "      <th>10071</th>\n",
       "      <th>12224</th>\n",
       "      <th>12364</th>\n",
       "      <th>15648</th>\n",
       "      <th>17534</th>\n",
       "      <th>19422</th>\n",
       "      <th>20641</th>\n",
       "      <th>20691</th>\n",
       "      <th>20821</th>\n",
       "      <th>...</th>\n",
       "      <th>819714</th>\n",
       "      <th>827521</th>\n",
       "      <th>827713</th>\n",
       "      <th>876563</th>\n",
       "      <th>902290</th>\n",
       "      <th>913354</th>\n",
       "      <th>930083</th>\n",
       "      <th>956038</th>\n",
       "      <th>963207</th>\n",
       "      <th>990404</th>\n",
       "    </tr>\n",
       "  </thead>\n",
       "  <tbody>\n",
       "    <tr>\n",
       "      <th>imdbID</th>\n",
       "      <td>9611</td>\n",
       "      <td>10071</td>\n",
       "      <td>12224</td>\n",
       "      <td>12364</td>\n",
       "      <td>15648</td>\n",
       "      <td>17534</td>\n",
       "      <td>19422</td>\n",
       "      <td>20641</td>\n",
       "      <td>20691</td>\n",
       "      <td>20821</td>\n",
       "      <td>...</td>\n",
       "      <td>819714</td>\n",
       "      <td>827521</td>\n",
       "      <td>827713</td>\n",
       "      <td>876563</td>\n",
       "      <td>902290</td>\n",
       "      <td>913354</td>\n",
       "      <td>930083</td>\n",
       "      <td>956038</td>\n",
       "      <td>963207</td>\n",
       "      <td>990404</td>\n",
       "    </tr>\n",
       "    <tr>\n",
       "      <th>review</th>\n",
       "      <td>[This film was one of three that were later co...</td>\n",
       "      <td>[\"Don't Change Your Husband\" is another soap o...</td>\n",
       "      <td>[A BUSTER KEATON Silent Short.&lt;br /&gt;&lt;br /&gt;Poor...</td>\n",
       "      <td>[I thought it would be more fantastic a tale. ...</td>\n",
       "      <td>[Some users are confused about the identity of...</td>\n",
       "      <td>[Was struck at how even the acting was through...</td>\n",
       "      <td>['Steamboat Willie' is the first cartoon with ...</td>\n",
       "      <td>[i loved the great lighting and was warmed by ...</td>\n",
       "      <td>[044: The Big Trail (1930) - released 10/24/19...</td>\n",
       "      <td>[Ronald Coleman had been a star of the screen ...</td>\n",
       "      <td>...</td>\n",
       "      <td>[This is a masterful piece of film-making, wit...</td>\n",
       "      <td>[When I first got wind of this picture, it was...</td>\n",
       "      <td>[I saw this black and white comedy noir yester...</td>\n",
       "      <td>[I absolutely, positively loved the movie. I j...</td>\n",
       "      <td>[I saw 'I Smell the Dead' -- sorry, 'I SELL th...</td>\n",
       "      <td>[Watching the preview of Armored I thought the...</td>\n",
       "      <td>[Like a lot of horror fans out there that went...</td>\n",
       "      <td>[I saw this today with little background on wh...</td>\n",
       "      <td>[George Carlin is probably my favorite comedia...</td>\n",
       "      <td>[This is marvelous movie, about a soul of Ale....</td>\n",
       "    </tr>\n",
       "  </tbody>\n",
       "</table>\n",
       "<p>2 rows × 473 columns</p>\n",
       "</div>"
      ],
      "text/plain": [
       "                                                   9611    \\\n",
       "imdbID                                               9611   \n",
       "review  [This film was one of three that were later co...   \n",
       "\n",
       "                                                   10071   \\\n",
       "imdbID                                              10071   \n",
       "review  [\"Don't Change Your Husband\" is another soap o...   \n",
       "\n",
       "                                                   12224   \\\n",
       "imdbID                                              12224   \n",
       "review  [A BUSTER KEATON Silent Short.<br /><br />Poor...   \n",
       "\n",
       "                                                   12364   \\\n",
       "imdbID                                              12364   \n",
       "review  [I thought it would be more fantastic a tale. ...   \n",
       "\n",
       "                                                   15648   \\\n",
       "imdbID                                              15648   \n",
       "review  [Some users are confused about the identity of...   \n",
       "\n",
       "                                                   17534   \\\n",
       "imdbID                                              17534   \n",
       "review  [Was struck at how even the acting was through...   \n",
       "\n",
       "                                                   19422   \\\n",
       "imdbID                                              19422   \n",
       "review  ['Steamboat Willie' is the first cartoon with ...   \n",
       "\n",
       "                                                   20641   \\\n",
       "imdbID                                              20641   \n",
       "review  [i loved the great lighting and was warmed by ...   \n",
       "\n",
       "                                                   20691   \\\n",
       "imdbID                                              20691   \n",
       "review  [044: The Big Trail (1930) - released 10/24/19...   \n",
       "\n",
       "                                                   20821   \\\n",
       "imdbID                                              20821   \n",
       "review  [Ronald Coleman had been a star of the screen ...   \n",
       "\n",
       "                              ...                          \\\n",
       "imdbID                        ...                           \n",
       "review                        ...                           \n",
       "\n",
       "                                                   819714  \\\n",
       "imdbID                                             819714   \n",
       "review  [This is a masterful piece of film-making, wit...   \n",
       "\n",
       "                                                   827521  \\\n",
       "imdbID                                             827521   \n",
       "review  [When I first got wind of this picture, it was...   \n",
       "\n",
       "                                                   827713  \\\n",
       "imdbID                                             827713   \n",
       "review  [I saw this black and white comedy noir yester...   \n",
       "\n",
       "                                                   876563  \\\n",
       "imdbID                                             876563   \n",
       "review  [I absolutely, positively loved the movie. I j...   \n",
       "\n",
       "                                                   902290  \\\n",
       "imdbID                                             902290   \n",
       "review  [I saw 'I Smell the Dead' -- sorry, 'I SELL th...   \n",
       "\n",
       "                                                   913354  \\\n",
       "imdbID                                             913354   \n",
       "review  [Watching the preview of Armored I thought the...   \n",
       "\n",
       "                                                   930083  \\\n",
       "imdbID                                             930083   \n",
       "review  [Like a lot of horror fans out there that went...   \n",
       "\n",
       "                                                   956038  \\\n",
       "imdbID                                             956038   \n",
       "review  [I saw this today with little background on wh...   \n",
       "\n",
       "                                                   963207  \\\n",
       "imdbID                                             963207   \n",
       "review  [George Carlin is probably my favorite comedia...   \n",
       "\n",
       "                                                   990404  \n",
       "imdbID                                             990404  \n",
       "review  [This is marvelous movie, about a soul of Ale....  \n",
       "\n",
       "[2 rows x 473 columns]"
      ]
     },
     "execution_count": 157,
     "metadata": {},
     "output_type": "execute_result"
    }
   ],
   "source": [
    "df_review"
   ]
  },
  {
   "cell_type": "code",
   "execution_count": 169,
   "metadata": {
    "collapsed": false
   },
   "outputs": [],
   "source": [
    "for i in range(473):\n",
    "    data = {}\n",
    "    data[\"imdbID\"] = df_review.iloc[0, i]\n",
    "    data[\"review\"] = df_review.iloc[1, i]\n",
    "    with open('/Users/xuyinchuan/Desktop/MovieBook_Yinchuan/review.json', 'a') as json_file:\n",
    "        json_file.write(json.dumps(data)+\",\\n\")\n",
    "\n"
   ]
  },
  {
   "cell_type": "code",
   "execution_count": 143,
   "metadata": {
    "collapsed": false
   },
   "outputs": [],
   "source": [
    "# df_review.to_json('review.json') 不用pandas的写"
   ]
  },
  {
   "cell_type": "code",
   "execution_count": 144,
   "metadata": {
    "collapsed": false
   },
   "outputs": [],
   "source": [
    "data = pd.read_json('/Users/xuyinchuan/Desktop/MovieBook_Yinchuan/review.json')"
   ]
  },
  {
   "cell_type": "code",
   "execution_count": null,
   "metadata": {
    "collapsed": true
   },
   "outputs": [],
   "source": []
  },
  {
   "cell_type": "code",
   "execution_count": null,
   "metadata": {
    "collapsed": true
   },
   "outputs": [],
   "source": [
    "import json"
   ]
  }
 ],
 "metadata": {
  "anaconda-cloud": {},
  "kernelspec": {
   "display_name": "Python [conda env:py36]",
   "language": "python",
   "name": "conda-env-py36-py"
  },
  "language_info": {
   "codemirror_mode": {
    "name": "ipython",
    "version": 3
   },
   "file_extension": ".py",
   "mimetype": "text/x-python",
   "name": "python",
   "nbconvert_exporter": "python",
   "pygments_lexer": "ipython3",
   "version": "3.6.1"
  }
 },
 "nbformat": 4,
 "nbformat_minor": 1
}
