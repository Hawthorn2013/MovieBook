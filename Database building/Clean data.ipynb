{
 "cells": [
  {
   "cell_type": "markdown",
   "metadata": {},
   "source": [
    "## Movie (*IMDB_ID, Title*, Genres)"
   ]
  },
  {
   "cell_type": "code",
   "execution_count": null,
   "metadata": {
    "collapsed": true
   },
   "outputs": [],
   "source": [
    "import pandas as pd"
   ]
  },
  {
   "cell_type": "code",
   "execution_count": null,
   "metadata": {
    "collapsed": false
   },
   "outputs": [],
   "source": [
    "movielen_movie_path = \"/Users/xuyinchuan/Desktop/MovieDB/movielens/movie.csv\"\n",
    "movielen_link_path = \"/Users/xuyinchuan/Desktop/MovieDB/movielens/link.csv\"\n",
    "fan_rate_path = \"/Users/xuyinchuan/Desktop/MovieDB/fandango/fandango/fandango_score_comparison.csv\"\n",
    "\n",
    "movielen_movie = pd.read_csv(movielen_movie_path, encoding='latin1')\n",
    "movielen_link = pd.read_csv(movielen_link_path, encoding='latin1')\n",
    "fan_rate = pd.read_csv(fan_rate_path, encoding='latin1')"
   ]
  },
  {
   "cell_type": "code",
   "execution_count": null,
   "metadata": {
    "collapsed": false
   },
   "outputs": [],
   "source": [
    "movielen_movie.head()"
   ]
  },
  {
   "cell_type": "code",
   "execution_count": null,
   "metadata": {
    "collapsed": false
   },
   "outputs": [],
   "source": [
    "movielen_link.head()"
   ]
  },
  {
   "cell_type": "code",
   "execution_count": null,
   "metadata": {
    "collapsed": true
   },
   "outputs": [],
   "source": []
  },
  {
   "cell_type": "code",
   "execution_count": null,
   "metadata": {
    "collapsed": false
   },
   "outputs": [],
   "source": [
    "Movie = pd.merge(movielen_movie, movielen_link, left_on='movieId', right_on='movieId')[['imdbId','title']]\n",
    "def help(x):\n",
    "    return x[:-6].rstrip()\n",
    "\n",
    "Movie = Movie.drop('title',axis = 1).join(Movie['title'].apply(help))"
   ]
  },
  {
   "cell_type": "code",
   "execution_count": null,
   "metadata": {
    "collapsed": false
   },
   "outputs": [],
   "source": [
    "Movie"
   ]
  },
  {
   "cell_type": "code",
   "execution_count": null,
   "metadata": {
    "collapsed": false
   },
   "outputs": [],
   "source": [
    "# 把genres提取出来\n",
    "temp_genres = movielen_movie.drop('genres', axis=1).join(movielen_movie['genres'].str.split('|',expand=True).stack().reset_index(level=1, drop=True).rename('genres'))\n",
    "Genres = pd.merge(temp_genres,movielen_link,left_on='movieId', right_on='movieId')[['imdbId','title','genres']]\n",
    "Genres = Genres.drop('title',axis = 1).join(Genres['title'].apply(help))"
   ]
  },
  {
   "cell_type": "code",
   "execution_count": null,
   "metadata": {
    "collapsed": false
   },
   "outputs": [],
   "source": [
    "Genres"
   ]
  },
  {
   "cell_type": "code",
   "execution_count": null,
   "metadata": {
    "collapsed": false
   },
   "outputs": [],
   "source": [
    "fan_rate.head()"
   ]
  },
  {
   "cell_type": "code",
   "execution_count": null,
   "metadata": {
    "collapsed": false
   },
   "outputs": [],
   "source": [
    "def help(x):\n",
    "    return x[:-6].rstrip()\n",
    "\n",
    "fan_rate = fan_rate.drop('FILM',axis = 1).join(fan_rate['FILM'].apply(help))\n",
    "fan_rate"
   ]
  },
  {
   "cell_type": "code",
   "execution_count": null,
   "metadata": {
    "collapsed": false
   },
   "outputs": [],
   "source": [
    "Movie_rate = pd.merge(fan_rate,Movie,left_on='FILM', right_on='title')[['imdbId','title','RottenTomatoes','Metacritic','IMDB','Fandango_Stars',]]\n",
    "Movie_rate"
   ]
  },
  {
   "cell_type": "code",
   "execution_count": null,
   "metadata": {
    "collapsed": true
   },
   "outputs": [],
   "source": []
  },
  {
   "cell_type": "code",
   "execution_count": null,
   "metadata": {
    "collapsed": true
   },
   "outputs": [],
   "source": [
    "path = \"/Users/xuyinchuan/Desktop/MovieDB/\""
   ]
  },
  {
   "cell_type": "code",
   "execution_count": null,
   "metadata": {
    "collapsed": true
   },
   "outputs": [],
   "source": []
  },
  {
   "cell_type": "code",
   "execution_count": 12,
   "metadata": {
    "collapsed": true
   },
   "outputs": [],
   "source": [
    "Movie.to_csv('Movie.csv', index=False)"
   ]
  },
  {
   "cell_type": "code",
   "execution_count": 13,
   "metadata": {
    "collapsed": true
   },
   "outputs": [],
   "source": [
    "Movie_rate.to_csv('Movie_rate.csv', index=False)"
   ]
  },
  {
   "cell_type": "code",
   "execution_count": 14,
   "metadata": {
    "collapsed": true
   },
   "outputs": [],
   "source": [
    "Genres.to_csv('Genres.csv', index=False)"
   ]
  },
  {
   "cell_type": "code",
   "execution_count": null,
   "metadata": {
    "collapsed": true
   },
   "outputs": [],
   "source": []
  }
 ],
 "metadata": {
  "anaconda-cloud": {},
  "kernelspec": {
   "display_name": "Python [conda env:py36]",
   "language": "python",
   "name": "conda-env-py36-py"
  },
  "language_info": {
   "codemirror_mode": {
    "name": "ipython",
    "version": 3
   },
   "file_extension": ".py",
   "mimetype": "text/x-python",
   "name": "python",
   "nbconvert_exporter": "python",
   "pygments_lexer": "ipython3",
   "version": "3.6.1"
  }
 },
 "nbformat": 4,
 "nbformat_minor": 1
}
